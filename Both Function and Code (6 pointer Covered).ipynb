{
 "cells": [
  {
   "cell_type": "code",
   "execution_count": 1,
   "metadata": {},
   "outputs": [],
   "source": [
    "import pandas as pd\n",
    "import numpy as np\n",
    "import matplotlib.pyplot as plt\n",
    "import seaborn as sns"
   ]
  },
  {
   "cell_type": "markdown",
   "metadata": {},
   "source": [
    "# Main Code and its Functionality for Indore Color Changing "
   ]
  },
  {
   "cell_type": "code",
   "execution_count": null,
   "metadata": {},
   "outputs": [],
   "source": [
    "import pandas as pd\n",
    "import numpy as np"
   ]
  },
  {
   "cell_type": "code",
   "execution_count": 2,
   "metadata": {},
   "outputs": [
    {
     "name": "stdout",
     "output_type": "stream",
     "text": [
      "----------------\n",
      "0\n",
      "royal blue\n",
      "royal blue\n",
      "42\n",
      "Royal Blue\n",
      "----------------\n",
      "----------------\n",
      "1\n",
      "black\n",
      "black\n",
      "2\n",
      "Black\n",
      "----------------\n",
      "----------------\n",
      "2\n",
      "purple\n",
      "purple\n",
      "40\n",
      "Purple\n",
      "----------------\n",
      "----------------\n",
      "3\n",
      "white\n",
      "white\n",
      "51\n",
      "White\n",
      "----------------\n",
      "----------------\n",
      "4\n",
      "burgundy\n",
      "burgundy\n",
      "7\n",
      "Burgundy\n",
      "----------------\n",
      "----------------\n",
      "5\n",
      "taupe\n",
      "taupe\n",
      "49\n",
      "Taupe\n",
      "----------------\n",
      "----------------\n",
      "6\n",
      "white\n",
      "white\n",
      "51\n",
      "White\n",
      "----------------\n",
      "----------------\n",
      "7\n",
      "beige\n",
      "beige\n",
      "1\n",
      "Taupe\n",
      "----------------\n",
      "----------------\n",
      "8\n",
      "chocolate\n",
      "chocolate\n",
      "11\n",
      "Chocolate\n",
      "----------------\n",
      "----------------\n",
      "9\n",
      "navy blue\n",
      "navy blue\n",
      "34\n",
      "Navy Blue\n",
      "----------------\n",
      "----------------\n",
      "10\n",
      "royal blue\n",
      "royal blue\n",
      "42\n",
      "Royal Blue\n",
      "----------------\n",
      "----------------\n",
      "11\n",
      "black\n",
      "black\n",
      "2\n",
      "Black\n",
      "----------------\n",
      "----------------\n",
      "12\n",
      "blue\n",
      "blue\n",
      "3\n",
      "Light Blue\n",
      "----------------\n",
      "----------------\n",
      "13\n",
      "royal blue\n",
      "royal blue\n",
      "42\n",
      "Royal Blue\n",
      "----------------\n",
      "----------------\n",
      "14\n",
      "grey\n",
      "grey\n",
      "21\n",
      "Elephant Grey\n",
      "----------------\n",
      "----------------\n",
      "15\n",
      "grey\n",
      "grey\n",
      "21\n",
      "Elephant Grey\n",
      "----------------\n",
      "----------------\n",
      "16\n",
      "black\n",
      "black\n",
      "2\n",
      "Black\n",
      "----------------\n",
      "----------------\n",
      "17\n",
      "black\n",
      "black\n",
      "2\n",
      "Black\n",
      "----------------\n",
      "----------------\n",
      "18\n",
      "black\n",
      "black\n",
      "2\n",
      "Black\n",
      "----------------\n",
      "----------------\n",
      "19\n",
      "beige\n",
      "beige\n",
      "1\n",
      "Taupe\n",
      "----------------\n",
      "----------------\n",
      "20\n",
      "black\n",
      "black\n",
      "2\n",
      "Black\n",
      "----------------\n",
      "----------------\n",
      "21\n",
      "black\n",
      "black\n",
      "2\n",
      "Black\n",
      "----------------\n",
      "----------------\n",
      "22\n",
      "chocolate\n",
      "chocolate\n",
      "11\n",
      "Chocolate\n",
      "----------------\n",
      "----------------\n",
      "23\n",
      "blue\n",
      "blue\n",
      "3\n",
      "Light Blue\n",
      "----------------\n",
      "----------------\n",
      "24\n",
      "chocolate\n",
      "chocolate\n",
      "11\n",
      "Chocolate\n",
      "----------------\n",
      "----------------\n",
      "25\n",
      "navy blue\n",
      "navy blue\n",
      "34\n",
      "Navy Blue\n",
      "----------------\n",
      "----------------\n",
      "26\n",
      "grey\n",
      "grey\n",
      "21\n",
      "Elephant Grey\n",
      "----------------\n",
      "----------------\n",
      "27\n",
      "lavender\n",
      "lavender\n",
      "26\n",
      "Lavender\n",
      "----------------\n",
      "----------------\n",
      "28\n",
      "beige\n",
      "beige\n",
      "1\n",
      "Taupe\n",
      "----------------\n",
      "----------------\n",
      "29\n",
      "navy blue\n",
      "navy blue\n",
      "34\n",
      "Navy Blue\n",
      "----------------\n",
      "----------------\n",
      "30\n",
      "royal blue\n",
      "royal blue\n",
      "42\n",
      "Royal Blue\n",
      "----------------\n",
      "----------------\n",
      "31\n",
      "taupe\n",
      "taupe\n",
      "49\n",
      "Taupe\n",
      "----------------\n",
      "----------------\n",
      "32\n",
      "taupe\n",
      "taupe\n",
      "49\n",
      "Taupe\n",
      "----------------\n",
      "----------------\n",
      "33\n",
      "grey\n",
      "grey\n",
      "21\n",
      "Elephant Grey\n",
      "----------------\n",
      "----------------\n",
      "34\n",
      "light blue\n",
      "light blue\n",
      "27\n",
      "Light Blue\n",
      "----------------\n",
      "----------------\n",
      "35\n",
      "navy blue\n",
      "navy blue\n",
      "34\n",
      "Navy Blue\n",
      "----------------\n",
      "----------------\n",
      "36\n",
      "black\n",
      "black\n",
      "2\n",
      "Black\n",
      "----------------\n",
      "----------------\n",
      "37\n",
      "black\n",
      "black\n",
      "2\n",
      "Black\n",
      "----------------\n",
      "----------------\n",
      "38\n",
      "black\n",
      "black\n",
      "2\n",
      "Black\n",
      "----------------\n",
      "----------------\n",
      "39\n",
      "black\n",
      "black\n",
      "2\n",
      "Black\n",
      "----------------\n",
      "----------------\n",
      "40\n",
      "dark blue\n",
      "dark blue\n",
      "14\n",
      "Royal Blue\n",
      "----------------\n",
      "----------------\n",
      "41\n",
      "gold\n",
      "gold\n",
      "19\n",
      "Gold \n",
      "----------------\n",
      "----------------\n",
      "42\n",
      "chocolate\n",
      "chocolate\n",
      "11\n",
      "Chocolate\n",
      "----------------\n",
      "----------------\n",
      "43\n",
      "black\n",
      "black\n",
      "2\n",
      "Black\n",
      "----------------\n",
      "----------------\n",
      "44\n",
      "elephant grey\n",
      "elephant grey\n",
      "18\n",
      "Elephant Grey\n",
      "----------------\n",
      "----------------\n",
      "45\n",
      "taupe\n",
      "taupe\n",
      "49\n",
      "Taupe\n",
      "----------------\n",
      "----------------\n",
      "46\n",
      "white\n",
      "white\n",
      "51\n",
      "White\n",
      "----------------\n",
      "----------------\n",
      "47\n",
      "taupe\n",
      "taupe\n",
      "49\n",
      "Taupe\n",
      "----------------\n"
     ]
    }
   ],
   "source": [
    "# Importing file whose colors have to be updated\n",
    "df1 = pd.read_excel('D:/Splendid/24-4-2019/24.04.2019 ORDER.xlsx', sheet_name = 'Sheet1')\n",
    "# importing reference color file \n",
    "df2 = pd.read_excel('D:/Splendid/Main Data Files/Indore color Asign.xlsx', sheet_name = 'Sheet1')\n",
    "x = [] # defining empty list\n",
    "y = range(df1.Color.count()) # calculating how many rows are there in 8 April 2019 file\n",
    "z = range(df2.Color.count()) # calculating how many rows are there in Color reference file\n",
    "for i in y: # picking each row of 8 April 2019 file\n",
    "    a = df1.Color[i] # Selecting each Color column value in 8 April 2019 file\n",
    "    a = a.strip() # Removing white spaces in Color column value in 8 April 2019 file\n",
    "    a = a.lower() # Converting Color column value in 8 April 2019 file\n",
    "    print('----------------')   # just for the refrence  \n",
    "    for j in z: # picking each row of Color refrence file\n",
    "        b = df2.Color[j] # Selecting each Color column value in Color reference file\n",
    "        b = b.strip() # Removing white spaces in Color column value in Color reference file\n",
    "        b = b.lower() # Converting Color column value in Color reference file\n",
    "        if a == b: # checking if the color value in 8 april file is equal to Color reference file\n",
    "            print(i)\n",
    "            print(a)\n",
    "            print(b)\n",
    "            print(j)\n",
    "            print(df2.Correct[j]) \n",
    "            print('----------------')\n",
    "            x.append(df2.Correct[j]) # updating empty list with the update color value in it \n",
    "df1['Color'] = pd.Series(x) # Converting updated Color in the Data Frame file of 8 April 2019\n",
    "df1.to_csv('D:/Splendid/Main Data Files/24-April-2019/Color_updated.csv')"
   ]
  },
  {
   "cell_type": "markdown",
   "metadata": {},
   "source": [
    "# Function for Indore Color Changing "
   ]
  },
  {
   "cell_type": "code",
   "execution_count": null,
   "metadata": {},
   "outputs": [],
   "source": [
    "def indore_color_assign_function(filepath, sheet_name):\n",
    "    import pandas as pd\n",
    "    import numpy as np\n",
    "    # Importing file whose colors have to be updated\n",
    "    df1 = pd.read_excel(filepath, sheet_name = sheet_name)\n",
    "    # importing reference color file \n",
    "    df2 = pd.read_excel('D:/Splendid/Main Data Files/Indore color Asign.xlsx', sheet_name = 'Sheet1')\n",
    "    x = [] # defining empty list\n",
    "    y = range(df1.Color.count()) # calculating how many rows are there in file whose colors have to be updated\n",
    "    z = range(df2.Color.count()) # calculating how many rows are there in Color reference file\n",
    "    for i in y: # picking each row of file whose colors have to be updated\n",
    "        a = df1.Color[i] # Selecting each Color column value in file whose colors have to be updated\n",
    "        a = a.strip() # Removing white spaces in Color column value in file whose colors have to be updated\n",
    "        a = a.lower() # Converting Color column value in file whose colors have to be updated\n",
    "        print('----------------')   # just for the refrence \n",
    "        for j in z: # picking each row of Color refrence file\n",
    "            b = df2.Color[j] # Selecting each Color column value in Color reference file\n",
    "            b = b.strip() # Removing white spaces in Color column value in Color reference file\n",
    "            b = b.lower() # Converting Color column value in Color reference file\n",
    "            if a == b: # checking if the color value in 8 april file is equal to Color reference file\n",
    "                print(i)\n",
    "                print(a)\n",
    "                print(b)\n",
    "                print(j)\n",
    "                print(df2.Correct[j]) \n",
    "                print('----------------') \n",
    "                x.append(df2.Correct[j]) # updating empty list with the update color value in it \n",
    "    df1['Color'] = pd.Series(x) # Converting updated Color in the Data Frame file of whose colors have to be updated\n",
    "    df1.to_csv('D:/Splendid/Main Data Files/out.csv')"
   ]
  },
  {
   "cell_type": "code",
   "execution_count": null,
   "metadata": {},
   "outputs": [],
   "source": [
    "indore_color_assign_function(filepath = 'C:/Users/PARV/Downloads/Order Detail of 04162019.xlsx', sheet_name = 'Sheet1')"
   ]
  },
  {
   "cell_type": "markdown",
   "metadata": {},
   "source": [
    "# Function for Cuddalore Color Changing "
   ]
  },
  {
   "cell_type": "code",
   "execution_count": null,
   "metadata": {},
   "outputs": [],
   "source": [
    "def Cuddalore_color_assign_function(filepath, sheet_name):\n",
    "    import pandas as pd\n",
    "    import numpy as np\n",
    "    # Importing file whose colors have to be updated\n",
    "    df1 = pd.read_excel(filepath, sheet_name = sheet_name)\n",
    "    # importing reference color file \n",
    "    df2 = pd.read_excel('D:/Splendid/Main Data Files/Cuddalore color Asign.xlsx', sheet_name = 'Consumption_Final_Summary')\n",
    "    x = [] # defining empty list\n",
    "    y = range(df1.Color.count()) # calculating how many rows are there in file whose colors have to be updated\n",
    "    z = range(df2.Color.count()) # calculating how many rows are there in Color reference file\n",
    "    for i in y: # picking each row of file whose colors have to be updated\n",
    "        a = df1.Color[i] # Selecting each Color column value in file whose colors have to be updated\n",
    "        a = a.strip() # Removing white spaces in Color column value in file whose colors have to be updated\n",
    "        a = a.lower() # Converting Color column value in file whose colors have to be updated\n",
    "        print('----------------')   # just for the refrence \n",
    "        for j in z: # picking each row of Color refrence file\n",
    "            b = df2.Color[j] # Selecting each Color column value in Color reference file\n",
    "            b = b.strip() # Removing white spaces in Color column value in Color reference file\n",
    "            b = b.lower() # Converting Color column value in Color reference file\n",
    "            if a == b: # checking if the color value in 8 april file is equal to Color reference file\n",
    "                print(i)\n",
    "                print(a)\n",
    "                print(b)\n",
    "                print(j)\n",
    "                print(df2.Correct[j]) \n",
    "                print('----------------') \n",
    "                x.append(df2.Correct[j]) # updating empty list with the update color value in it \n",
    "    df1['Color'] = pd.Series(x) # Converting updated Color in the Data Frame file of whose colors have to be updated\n",
    "    df1.to_csv('D:/Splendid/Main Data Files/out.csv')"
   ]
  },
  {
   "cell_type": "markdown",
   "metadata": {},
   "source": [
    "# Bar Graphs with Color and FC used (ALL)"
   ]
  },
  {
   "cell_type": "code",
   "execution_count": 4,
   "metadata": {},
   "outputs": [],
   "source": [
    "# Output file after changing colors\n",
    "df = pd.read_csv('D:/Splendid/Main Data Files/24-April-2019/Color_updated.csv')"
   ]
  },
  {
   "cell_type": "code",
   "execution_count": 6,
   "metadata": {},
   "outputs": [],
   "source": [
    "df1 = pd.pivot_table(df, index=['Color'], values=['FC'], aggfunc={'FC':np.sum}, margins=True)"
   ]
  },
  {
   "cell_type": "code",
   "execution_count": 7,
   "metadata": {},
   "outputs": [
    {
     "data": {
      "text/html": [
       "<div>\n",
       "<style scoped>\n",
       "    .dataframe tbody tr th:only-of-type {\n",
       "        vertical-align: middle;\n",
       "    }\n",
       "\n",
       "    .dataframe tbody tr th {\n",
       "        vertical-align: top;\n",
       "    }\n",
       "\n",
       "    .dataframe thead th {\n",
       "        text-align: right;\n",
       "    }\n",
       "</style>\n",
       "<table border=\"1\" class=\"dataframe\">\n",
       "  <thead>\n",
       "    <tr style=\"text-align: right;\">\n",
       "      <th></th>\n",
       "      <th>FC</th>\n",
       "    </tr>\n",
       "    <tr>\n",
       "      <th>Color</th>\n",
       "      <th></th>\n",
       "    </tr>\n",
       "  </thead>\n",
       "  <tbody>\n",
       "    <tr>\n",
       "      <th>Black</th>\n",
       "      <td>53.28</td>\n",
       "    </tr>\n",
       "    <tr>\n",
       "      <th>Burgundy</th>\n",
       "      <td>12.48</td>\n",
       "    </tr>\n",
       "    <tr>\n",
       "      <th>Chocolate</th>\n",
       "      <td>13.46</td>\n",
       "    </tr>\n",
       "    <tr>\n",
       "      <th>Elephant Grey</th>\n",
       "      <td>33.23</td>\n",
       "    </tr>\n",
       "    <tr>\n",
       "      <th>Gold</th>\n",
       "      <td>1.64</td>\n",
       "    </tr>\n",
       "    <tr>\n",
       "      <th>Lavender</th>\n",
       "      <td>7.15</td>\n",
       "    </tr>\n",
       "    <tr>\n",
       "      <th>Light Blue</th>\n",
       "      <td>19.23</td>\n",
       "    </tr>\n",
       "    <tr>\n",
       "      <th>Navy Blue</th>\n",
       "      <td>16.89</td>\n",
       "    </tr>\n",
       "    <tr>\n",
       "      <th>Purple</th>\n",
       "      <td>3.31</td>\n",
       "    </tr>\n",
       "    <tr>\n",
       "      <th>Royal Blue</th>\n",
       "      <td>32.87</td>\n",
       "    </tr>\n",
       "    <tr>\n",
       "      <th>Taupe</th>\n",
       "      <td>47.39</td>\n",
       "    </tr>\n",
       "    <tr>\n",
       "      <th>White</th>\n",
       "      <td>12.76</td>\n",
       "    </tr>\n",
       "    <tr>\n",
       "      <th>All</th>\n",
       "      <td>253.69</td>\n",
       "    </tr>\n",
       "  </tbody>\n",
       "</table>\n",
       "</div>"
      ],
      "text/plain": [
       "                   FC\n",
       "Color                \n",
       "Black           53.28\n",
       "Burgundy        12.48\n",
       "Chocolate       13.46\n",
       "Elephant Grey   33.23\n",
       "Gold             1.64\n",
       "Lavender         7.15\n",
       "Light Blue      19.23\n",
       "Navy Blue       16.89\n",
       "Purple           3.31\n",
       "Royal Blue      32.87\n",
       "Taupe           47.39\n",
       "White           12.76\n",
       "All            253.69"
      ]
     },
     "execution_count": 7,
     "metadata": {},
     "output_type": "execute_result"
    }
   ],
   "source": [
    "df1"
   ]
  },
  {
   "cell_type": "code",
   "execution_count": 8,
   "metadata": {},
   "outputs": [],
   "source": [
    "df1.drop(df1.tail(1).index,inplace=True) "
   ]
  },
  {
   "cell_type": "code",
   "execution_count": 10,
   "metadata": {},
   "outputs": [
    {
     "data": {
      "image/png": "[encoded data removed]",
      "text/plain": [
       "<Figure size 1080x720 with 1 Axes>"
      ]
     },
     "metadata": {
      "needs_background": "light"
     },
     "output_type": "display_data"
    }
   ],
   "source": [
    "ax = df1.plot(kind='bar', title =\"Indore All Color Fabric Consumption Analysis Report\", figsize=(15, 10), legend=True, fontsize=10)\n",
    "for i in ax.patches:\n",
    "    ax.text(i.get_x()+.01, i.get_height()+1, \\\n",
    "            str(round((i.get_height()), 2)), fontsize=10, color='dimgrey',\n",
    "                rotation=0)\n",
    "plt.savefig('D:/Splendid/Main Data Files/24-April-2019/All_Color_FC.png')"
   ]
  },
  {
   "cell_type": "markdown",
   "metadata": {},
   "source": [
    "# Bar Graphs with Color an FC used (SOLID PATTERN AND COTTON)"
   ]
  },
  {
   "cell_type": "code",
   "execution_count": 46,
   "metadata": {},
   "outputs": [
    {
     "name": "stderr",
     "output_type": "stream",
     "text": [
      "C:\\Users\\PARV\\Anaconda3\\lib\\site-packages\\ipykernel_launcher.py:2: SettingWithCopyWarning: \n",
      "A value is trying to be set on a copy of a slice from a DataFrame\n",
      "\n",
      "See the caveats in the documentation: http://pandas.pydata.org/pandas-docs/stable/indexing.html#indexing-view-versus-copy\n",
      "  \n",
      "C:\\Users\\PARV\\Anaconda3\\lib\\site-packages\\ipykernel_launcher.py:3: SettingWithCopyWarning: \n",
      "A value is trying to be set on a copy of a slice from a DataFrame\n",
      "\n",
      "See the caveats in the documentation: http://pandas.pydata.org/pandas-docs/stable/indexing.html#indexing-view-versus-copy\n",
      "  This is separate from the ipykernel package so we can avoid doing imports until\n"
     ]
    }
   ],
   "source": [
    "for i in range(df.Material.count()):\n",
    "    df.Material[i] = df.Material[i].strip()\n",
    "    df.Pattern[i] = df.Pattern[i].strip()"
   ]
  },
  {
   "cell_type": "code",
   "execution_count": 11,
   "metadata": {},
   "outputs": [],
   "source": [
    "df2= df[(df.Material == 'Cotton') & (df.Pattern == 'Solid')].pivot_table(index=['Color'], values=['FC'], aggfunc={'FC':np.sum}, margins=True)"
   ]
  },
  {
   "cell_type": "code",
   "execution_count": 12,
   "metadata": {},
   "outputs": [],
   "source": [
    "df2.drop(df2.tail(1).index,inplace=True) "
   ]
  },
  {
   "cell_type": "code",
   "execution_count": 13,
   "metadata": {},
   "outputs": [
    {
     "data": {
      "text/html": [
       "<div>\n",
       "<style scoped>\n",
       "    .dataframe tbody tr th:only-of-type {\n",
       "        vertical-align: middle;\n",
       "    }\n",
       "\n",
       "    .dataframe tbody tr th {\n",
       "        vertical-align: top;\n",
       "    }\n",
       "\n",
       "    .dataframe thead th {\n",
       "        text-align: right;\n",
       "    }\n",
       "</style>\n",
       "<table border=\"1\" class=\"dataframe\">\n",
       "  <thead>\n",
       "    <tr style=\"text-align: right;\">\n",
       "      <th></th>\n",
       "      <th>FC</th>\n",
       "    </tr>\n",
       "    <tr>\n",
       "      <th>Color</th>\n",
       "      <th></th>\n",
       "    </tr>\n",
       "  </thead>\n",
       "  <tbody>\n",
       "    <tr>\n",
       "      <th>Black</th>\n",
       "      <td>13.40</td>\n",
       "    </tr>\n",
       "    <tr>\n",
       "      <th>Navy Blue</th>\n",
       "      <td>7.46</td>\n",
       "    </tr>\n",
       "    <tr>\n",
       "      <th>Royal Blue</th>\n",
       "      <td>6.75</td>\n",
       "    </tr>\n",
       "    <tr>\n",
       "      <th>Taupe</th>\n",
       "      <td>4.43</td>\n",
       "    </tr>\n",
       "  </tbody>\n",
       "</table>\n",
       "</div>"
      ],
      "text/plain": [
       "               FC\n",
       "Color            \n",
       "Black       13.40\n",
       "Navy Blue    7.46\n",
       "Royal Blue   6.75\n",
       "Taupe        4.43"
      ]
     },
     "execution_count": 13,
     "metadata": {},
     "output_type": "execute_result"
    }
   ],
   "source": [
    "df2"
   ]
  },
  {
   "cell_type": "code",
   "execution_count": 14,
   "metadata": {},
   "outputs": [
    {
     "data": {
      "image/png": "[encoded data removed]",
      "text/plain": [
       "<Figure size 1080x720 with 1 Axes>"
      ]
     },
     "metadata": {
      "needs_background": "light"
     },
     "output_type": "display_data"
    }
   ],
   "source": [
    "ax = df2.plot(kind='bar', title =\"Indore All Color SOLID PATTERN AND COTTON Fabric Consumption Analysis Report\", figsize=(15, 10), legend=True, fontsize=10)\n",
    "for i in ax.patches:\n",
    "    ax.text(i.get_x()+.18, i.get_height()+.4, \\\n",
    "            str(round((i.get_height()), 2)), fontsize=10, color='dimgrey',\n",
    "                rotation=0)\n",
    "plt.savefig('D:/Splendid/Main Data Files/24-April-2019/Solid_Cotton_FC.png')"
   ]
  },
  {
   "cell_type": "markdown",
   "metadata": {},
   "source": [
    "# Bar Graphs with Color an FC used (STRIPE PATTERN AND COTTON)"
   ]
  },
  {
   "cell_type": "code",
   "execution_count": 15,
   "metadata": {},
   "outputs": [],
   "source": [
    "df3= df[(df.Material == 'Cotton') & (df.Pattern == 'Stripe')].pivot_table(index=['Color'], values=['FC'], aggfunc={'FC':np.sum}, margins=True)"
   ]
  },
  {
   "cell_type": "code",
   "execution_count": 16,
   "metadata": {},
   "outputs": [],
   "source": [
    "df3.drop(df3.tail(1).index,inplace=True) "
   ]
  },
  {
   "cell_type": "code",
   "execution_count": 17,
   "metadata": {},
   "outputs": [
    {
     "data": {
      "image/png": "[encoded data removed]",
      "text/plain": [
       "<Figure size 1080x720 with 1 Axes>"
      ]
     },
     "metadata": {
      "needs_background": "light"
     },
     "output_type": "display_data"
    }
   ],
   "source": [
    "ax = df3.plot(kind='bar', title =\"Indore All Color STRIPE PATTERN AND COTTON Fabric Consumption Analysis Report\", figsize=(15, 10), legend=True, fontsize=10)\n",
    "for i in ax.patches:\n",
    "    ax.text(i.get_x()+.18, i.get_height()+.4, \\\n",
    "            str(round((i.get_height()), 2)), fontsize=10, color='dimgrey',\n",
    "                rotation=0)\n",
    "plt.savefig('D:/Splendid/Main Data Files/24-April-2019/Stripe_Cotton_FC.png')"
   ]
  },
  {
   "cell_type": "markdown",
   "metadata": {},
   "source": [
    "# Bar Graphs with Color an FC used (SOLID PATTERN AND MICROFIBER)"
   ]
  },
  {
   "cell_type": "code",
   "execution_count": 29,
   "metadata": {},
   "outputs": [],
   "source": [
    "df4= df[(df.Material == 'Microfiber') & (df.Pattern == 'Solid')].pivot_table(index=['Color'], values=['FC'], aggfunc={'FC':np.sum}, margins=True)"
   ]
  },
  {
   "cell_type": "code",
   "execution_count": 30,
   "metadata": {},
   "outputs": [],
   "source": [
    "df4.drop(df4.tail(1).index,inplace=True) "
   ]
  },
  {
   "cell_type": "code",
   "execution_count": 32,
   "metadata": {},
   "outputs": [
    {
     "data": {
      "text/html": [
       "<div>\n",
       "<style scoped>\n",
       "    .dataframe tbody tr th:only-of-type {\n",
       "        vertical-align: middle;\n",
       "    }\n",
       "\n",
       "    .dataframe tbody tr th {\n",
       "        vertical-align: top;\n",
       "    }\n",
       "\n",
       "    .dataframe thead th {\n",
       "        text-align: right;\n",
       "    }\n",
       "</style>\n",
       "<table border=\"1\" class=\"dataframe\">\n",
       "  <thead>\n",
       "    <tr style=\"text-align: right;\">\n",
       "      <th></th>\n",
       "      <th>FC</th>\n",
       "    </tr>\n",
       "    <tr>\n",
       "      <th>Color</th>\n",
       "      <th></th>\n",
       "    </tr>\n",
       "  </thead>\n",
       "  <tbody>\n",
       "    <tr>\n",
       "      <th>Black</th>\n",
       "      <td>29.54</td>\n",
       "    </tr>\n",
       "    <tr>\n",
       "      <th>Chocolate</th>\n",
       "      <td>13.46</td>\n",
       "    </tr>\n",
       "    <tr>\n",
       "      <th>Gold</th>\n",
       "      <td>1.64</td>\n",
       "    </tr>\n",
       "    <tr>\n",
       "      <th>Navy Blue</th>\n",
       "      <td>9.43</td>\n",
       "    </tr>\n",
       "    <tr>\n",
       "      <th>Royal Blue</th>\n",
       "      <td>16.10</td>\n",
       "    </tr>\n",
       "    <tr>\n",
       "      <th>Taupe</th>\n",
       "      <td>24.13</td>\n",
       "    </tr>\n",
       "    <tr>\n",
       "      <th>White</th>\n",
       "      <td>0.60</td>\n",
       "    </tr>\n",
       "  </tbody>\n",
       "</table>\n",
       "</div>"
      ],
      "text/plain": [
       "               FC\n",
       "Color            \n",
       "Black       29.54\n",
       "Chocolate   13.46\n",
       "Gold         1.64\n",
       "Navy Blue    9.43\n",
       "Royal Blue  16.10\n",
       "Taupe       24.13\n",
       "White        0.60"
      ]
     },
     "execution_count": 32,
     "metadata": {},
     "output_type": "execute_result"
    }
   ],
   "source": [
    "df4"
   ]
  },
  {
   "cell_type": "code",
   "execution_count": 33,
   "metadata": {},
   "outputs": [
    {
     "data": {
      "image/png": "[encoded data removed]",
      "text/plain": [
       "<Figure size 1080x720 with 1 Axes>"
      ]
     },
     "metadata": {
      "needs_background": "light"
     },
     "output_type": "display_data"
    }
   ],
   "source": [
    "ax = df4.plot(kind='bar', title =\"Indore SOLID PATTERN AND MICROFIBER Fabric Consumption Analysis Report\", figsize=(15, 10), legend=True, fontsize=10)\n",
    "for i in ax.patches:\n",
    "    ax.text(i.get_x()+.18, i.get_height()+.4, \\\n",
    "            str(round((i.get_height()), 2)), fontsize=10, color='dimgrey',\n",
    "                rotation=0)\n",
    "plt.savefig('D:/Splendid/Main Data Files/24-April-2019/Solid_MicroFiber_FC.png')"
   ]
  },
  {
   "cell_type": "markdown",
   "metadata": {},
   "source": [
    "# Bar Graphs with Color an FC used (STRIPE PATTERN AND MICROFIBER)"
   ]
  },
  {
   "cell_type": "code",
   "execution_count": 34,
   "metadata": {},
   "outputs": [],
   "source": [
    "df5= df[(df.Material == 'Microfiber') & (df.Pattern == 'Stripe')].pivot_table(index=['Color'], values=['FC'], aggfunc={'FC':np.sum}, margins=True)"
   ]
  },
  {
   "cell_type": "code",
   "execution_count": 35,
   "metadata": {},
   "outputs": [],
   "source": [
    "df5.drop(df5.tail(1).index,inplace=True) "
   ]
  },
  {
   "cell_type": "code",
   "execution_count": 37,
   "metadata": {},
   "outputs": [
    {
     "data": {
      "text/html": [
       "<div>\n",
       "<style scoped>\n",
       "    .dataframe tbody tr th:only-of-type {\n",
       "        vertical-align: middle;\n",
       "    }\n",
       "\n",
       "    .dataframe tbody tr th {\n",
       "        vertical-align: top;\n",
       "    }\n",
       "\n",
       "    .dataframe thead th {\n",
       "        text-align: right;\n",
       "    }\n",
       "</style>\n",
       "<table border=\"1\" class=\"dataframe\">\n",
       "  <thead>\n",
       "    <tr style=\"text-align: right;\">\n",
       "      <th></th>\n",
       "      <th>FC</th>\n",
       "    </tr>\n",
       "    <tr>\n",
       "      <th>Color</th>\n",
       "      <th></th>\n",
       "    </tr>\n",
       "  </thead>\n",
       "  <tbody>\n",
       "    <tr>\n",
       "      <th>Black</th>\n",
       "      <td>10.34</td>\n",
       "    </tr>\n",
       "    <tr>\n",
       "      <th>Burgundy</th>\n",
       "      <td>12.48</td>\n",
       "    </tr>\n",
       "    <tr>\n",
       "      <th>Elephant Grey</th>\n",
       "      <td>13.33</td>\n",
       "    </tr>\n",
       "    <tr>\n",
       "      <th>Lavender</th>\n",
       "      <td>7.15</td>\n",
       "    </tr>\n",
       "    <tr>\n",
       "      <th>Light Blue</th>\n",
       "      <td>12.40</td>\n",
       "    </tr>\n",
       "    <tr>\n",
       "      <th>Purple</th>\n",
       "      <td>3.31</td>\n",
       "    </tr>\n",
       "    <tr>\n",
       "      <th>Royal Blue</th>\n",
       "      <td>10.02</td>\n",
       "    </tr>\n",
       "    <tr>\n",
       "      <th>Taupe</th>\n",
       "      <td>12.00</td>\n",
       "    </tr>\n",
       "    <tr>\n",
       "      <th>White</th>\n",
       "      <td>12.16</td>\n",
       "    </tr>\n",
       "  </tbody>\n",
       "</table>\n",
       "</div>"
      ],
      "text/plain": [
       "                  FC\n",
       "Color               \n",
       "Black          10.34\n",
       "Burgundy       12.48\n",
       "Elephant Grey  13.33\n",
       "Lavender        7.15\n",
       "Light Blue     12.40\n",
       "Purple          3.31\n",
       "Royal Blue     10.02\n",
       "Taupe          12.00\n",
       "White          12.16"
      ]
     },
     "execution_count": 37,
     "metadata": {},
     "output_type": "execute_result"
    }
   ],
   "source": [
    "df5"
   ]
  },
  {
   "cell_type": "code",
   "execution_count": 40,
   "metadata": {},
   "outputs": [
    {
     "data": {
      "image/png": "[encoded data removed]",
      "text/plain": [
       "<Figure size 1440x720 with 1 Axes>"
      ]
     },
     "metadata": {
      "needs_background": "light"
     },
     "output_type": "display_data"
    }
   ],
   "source": [
    "ax = df5.plot(kind='bar', title =\"Indore All Color (STRIPE PATTERN AND MICROFIBER) Fabric Consumption Analysis Report\", figsize=(20, 10), legend=True, fontsize=10)\n",
    "for i in ax.patches:\n",
    "    ax.text(i.get_x()+.18, i.get_height()+.4, \\\n",
    "            str(round((i.get_height()), 2)), fontsize=10, color='dimgrey',\n",
    "                rotation=0)\n",
    "plt.savefig('D:/Splendid/Main Data Files/24-April-2019/Stripe_MicroFiber_FC.png')"
   ]
  },
  {
   "cell_type": "code",
   "execution_count": null,
   "metadata": {},
   "outputs": [],
   "source": []
  }
 ],
 "metadata": {
  "kernelspec": {
   "display_name": "Python 3",
   "language": "python",
   "name": "python3"
  },
  "language_info": {
   "codemirror_mode": {
    "name": "ipython",
    "version": 3
   },
   "file_extension": ".py",
   "mimetype": "text/x-python",
   "name": "python",
   "nbconvert_exporter": "python",
   "pygments_lexer": "ipython3",
   "version": "3.7.3"
  }
 },
 "nbformat": 4,
 "nbformat_minor": 2
}
